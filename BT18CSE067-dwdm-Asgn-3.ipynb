{
  "nbformat": 4,
  "nbformat_minor": 0,
  "metadata": {
    "colab": {
      "name": "Frequency analysis.ipynb",
      "provenance": []
    },
    "kernelspec": {
      "name": "python3",
      "display_name": "Python 3"
    },
    "language_info": {
      "name": "python"
    }
  },
  "cells": [
    {
      "cell_type": "code",
      "metadata": {
        "colab": {
          "base_uri": "https://localhost:8080/"
        },
        "id": "87VGVE7tJW2F",
        "outputId": "ae75fc57-14c7-4900-c016-1541e5edb4aa"
      },
      "source": [
        "!pip install --upgrade mlxtend"
      ],
      "execution_count": 1,
      "outputs": [
        {
          "output_type": "stream",
          "name": "stdout",
          "text": [
            "Requirement already satisfied: mlxtend in /usr/local/lib/python3.7/dist-packages (0.14.0)\n",
            "Collecting mlxtend\n",
            "  Downloading mlxtend-0.19.0-py2.py3-none-any.whl (1.3 MB)\n",
            "\u001b[K     |████████████████████████████████| 1.3 MB 5.1 MB/s \n",
            "\u001b[?25hRequirement already satisfied: scipy>=1.2.1 in /usr/local/lib/python3.7/dist-packages (from mlxtend) (1.4.1)\n",
            "Requirement already satisfied: pandas>=0.24.2 in /usr/local/lib/python3.7/dist-packages (from mlxtend) (1.1.5)\n",
            "Requirement already satisfied: setuptools in /usr/local/lib/python3.7/dist-packages (from mlxtend) (57.4.0)\n",
            "Requirement already satisfied: matplotlib>=3.0.0 in /usr/local/lib/python3.7/dist-packages (from mlxtend) (3.2.2)\n",
            "Requirement already satisfied: joblib>=0.13.2 in /usr/local/lib/python3.7/dist-packages (from mlxtend) (1.1.0)\n",
            "Requirement already satisfied: numpy>=1.16.2 in /usr/local/lib/python3.7/dist-packages (from mlxtend) (1.19.5)\n",
            "Requirement already satisfied: scikit-learn>=0.20.3 in /usr/local/lib/python3.7/dist-packages (from mlxtend) (1.0.1)\n",
            "Requirement already satisfied: kiwisolver>=1.0.1 in /usr/local/lib/python3.7/dist-packages (from matplotlib>=3.0.0->mlxtend) (1.3.2)\n",
            "Requirement already satisfied: cycler>=0.10 in /usr/local/lib/python3.7/dist-packages (from matplotlib>=3.0.0->mlxtend) (0.11.0)\n",
            "Requirement already satisfied: python-dateutil>=2.1 in /usr/local/lib/python3.7/dist-packages (from matplotlib>=3.0.0->mlxtend) (2.8.2)\n",
            "Requirement already satisfied: pyparsing!=2.0.4,!=2.1.2,!=2.1.6,>=2.0.1 in /usr/local/lib/python3.7/dist-packages (from matplotlib>=3.0.0->mlxtend) (3.0.6)\n",
            "Requirement already satisfied: pytz>=2017.2 in /usr/local/lib/python3.7/dist-packages (from pandas>=0.24.2->mlxtend) (2018.9)\n",
            "Requirement already satisfied: six>=1.5 in /usr/local/lib/python3.7/dist-packages (from python-dateutil>=2.1->matplotlib>=3.0.0->mlxtend) (1.15.0)\n",
            "Requirement already satisfied: threadpoolctl>=2.0.0 in /usr/local/lib/python3.7/dist-packages (from scikit-learn>=0.20.3->mlxtend) (3.0.0)\n",
            "Installing collected packages: mlxtend\n",
            "  Attempting uninstall: mlxtend\n",
            "    Found existing installation: mlxtend 0.14.0\n",
            "    Uninstalling mlxtend-0.14.0:\n",
            "      Successfully uninstalled mlxtend-0.14.0\n",
            "Successfully installed mlxtend-0.19.0\n"
          ]
        }
      ]
    },
    {
      "cell_type": "code",
      "metadata": {
        "id": "6vntmrt6JNI6"
      },
      "source": [
        "import pandas as pd\n",
        "import numpy as np\n",
        "from mlxtend.frequent_patterns import apriori, association_rules\n",
        "import matplotlib.pyplot as plt"
      ],
      "execution_count": 2,
      "outputs": []
    },
    {
      "cell_type": "code",
      "metadata": {
        "id": "VlFIVKuHMkNH"
      },
      "source": [
        "df = pd.read_csv('/content/drive/MyDrive/frequent_file_2.csv')"
      ],
      "execution_count": 3,
      "outputs": []
    },
    {
      "cell_type": "code",
      "metadata": {
        "colab": {
          "base_uri": "https://localhost:8080/"
        },
        "id": "aXyygXKRMnYE",
        "outputId": "24ca646d-9fe7-4685-e13c-6747e35274a5"
      },
      "source": [
        "df.info()"
      ],
      "execution_count": 4,
      "outputs": [
        {
          "output_type": "stream",
          "name": "stdout",
          "text": [
            "<class 'pandas.core.frame.DataFrame'>\n",
            "RangeIndex: 315 entries, 0 to 314\n",
            "Data columns (total 7 columns):\n",
            " #   Column  Non-Null Count  Dtype \n",
            "---  ------  --------------  ----- \n",
            " 0   1       315 non-null    object\n",
            " 1   2       285 non-null    object\n",
            " 2   3       245 non-null    object\n",
            " 3   4       187 non-null    object\n",
            " 4   5       133 non-null    object\n",
            " 5   6       71 non-null     object\n",
            " 6   7       41 non-null     object\n",
            "dtypes: object(7)\n",
            "memory usage: 17.4+ KB\n"
          ]
        }
      ]
    },
    {
      "cell_type": "markdown",
      "metadata": {
        "id": "sll9eTrCYe1L"
      },
      "source": [
        "Each row contains a list of the items purchased by a customer. One purchase has a maximum of 7 items purchased and at least one item purchased. Here is what the dataset with 315 rows looks like"
      ]
    },
    {
      "cell_type": "code",
      "metadata": {
        "colab": {
          "base_uri": "https://localhost:8080/",
          "height": 206
        },
        "id": "JxQEigB1YZYJ",
        "outputId": "81656ab4-acac-4bb1-84af-3842c717f096"
      },
      "source": [
        "df.head()"
      ],
      "execution_count": 5,
      "outputs": [
        {
          "output_type": "execute_result",
          "data": {
            "text/html": [
              "<div>\n",
              "<style scoped>\n",
              "    .dataframe tbody tr th:only-of-type {\n",
              "        vertical-align: middle;\n",
              "    }\n",
              "\n",
              "    .dataframe tbody tr th {\n",
              "        vertical-align: top;\n",
              "    }\n",
              "\n",
              "    .dataframe thead th {\n",
              "        text-align: right;\n",
              "    }\n",
              "</style>\n",
              "<table border=\"1\" class=\"dataframe\">\n",
              "  <thead>\n",
              "    <tr style=\"text-align: right;\">\n",
              "      <th></th>\n",
              "      <th>1</th>\n",
              "      <th>2</th>\n",
              "      <th>3</th>\n",
              "      <th>4</th>\n",
              "      <th>5</th>\n",
              "      <th>6</th>\n",
              "      <th>7</th>\n",
              "    </tr>\n",
              "  </thead>\n",
              "  <tbody>\n",
              "    <tr>\n",
              "      <th>0</th>\n",
              "      <td>Bread</td>\n",
              "      <td>Wine</td>\n",
              "      <td>Eggs</td>\n",
              "      <td>Meat</td>\n",
              "      <td>Cheese</td>\n",
              "      <td>Pencil</td>\n",
              "      <td>Diaper</td>\n",
              "    </tr>\n",
              "    <tr>\n",
              "      <th>1</th>\n",
              "      <td>Bread</td>\n",
              "      <td>Cheese</td>\n",
              "      <td>Meat</td>\n",
              "      <td>Diaper</td>\n",
              "      <td>Wine</td>\n",
              "      <td>Milk</td>\n",
              "      <td>Pencil</td>\n",
              "    </tr>\n",
              "    <tr>\n",
              "      <th>2</th>\n",
              "      <td>Cheese</td>\n",
              "      <td>Meat</td>\n",
              "      <td>Eggs</td>\n",
              "      <td>Milk</td>\n",
              "      <td>Wine</td>\n",
              "      <td>NaN</td>\n",
              "      <td>NaN</td>\n",
              "    </tr>\n",
              "    <tr>\n",
              "      <th>3</th>\n",
              "      <td>Cheese</td>\n",
              "      <td>Meat</td>\n",
              "      <td>Eggs</td>\n",
              "      <td>Milk</td>\n",
              "      <td>Wine</td>\n",
              "      <td>NaN</td>\n",
              "      <td>NaN</td>\n",
              "    </tr>\n",
              "    <tr>\n",
              "      <th>4</th>\n",
              "      <td>Meat</td>\n",
              "      <td>Pencil</td>\n",
              "      <td>Wine</td>\n",
              "      <td>NaN</td>\n",
              "      <td>NaN</td>\n",
              "      <td>NaN</td>\n",
              "      <td>NaN</td>\n",
              "    </tr>\n",
              "  </tbody>\n",
              "</table>\n",
              "</div>"
            ],
            "text/plain": [
              "        1       2     3       4       5       6       7\n",
              "0   Bread    Wine  Eggs    Meat  Cheese  Pencil  Diaper\n",
              "1   Bread  Cheese  Meat  Diaper    Wine    Milk  Pencil\n",
              "2  Cheese    Meat  Eggs    Milk    Wine     NaN     NaN\n",
              "3  Cheese    Meat  Eggs    Milk    Wine     NaN     NaN\n",
              "4    Meat  Pencil  Wine     NaN     NaN     NaN     NaN"
            ]
          },
          "metadata": {},
          "execution_count": 5
        }
      ]
    },
    {
      "cell_type": "markdown",
      "metadata": {
        "id": "C8WNOzWCYxga"
      },
      "source": [
        "Following are the individual items that can be bought. Here we see there are 9 unique items that can be bought at the store."
      ]
    },
    {
      "cell_type": "code",
      "metadata": {
        "colab": {
          "base_uri": "https://localhost:8080/"
        },
        "id": "42PUZJtXX_X_",
        "outputId": "76b8b5f2-cede-4a8a-f88a-3f3f66e0362c"
      },
      "source": [
        "items = set()\n",
        "for col in df:\n",
        "    items.update(df[col].unique())\n",
        "print(items)"
      ],
      "execution_count": null,
      "outputs": [
        {
          "output_type": "stream",
          "name": "stdout",
          "text": [
            "{nan, 'Bagel', 'Meat', 'Bread', 'Cheese', 'Milk', 'Eggs', 'Pencil', 'Wine', 'Diaper'}\n"
          ]
        }
      ]
    },
    {
      "cell_type": "markdown",
      "metadata": {
        "id": "khvKDi46ZCyH"
      },
      "source": [
        "Next, we want to convert the regular dataset format to a one-hot encoded format where each row has 9 binary entries, one for each item. a 1 means that the item is present and a 0 means that the item is not present."
      ]
    },
    {
      "cell_type": "code",
      "metadata": {
        "id": "srhx2Nf4YGux"
      },
      "source": [
        "itemset = set(items)\n",
        "encoded_vals = []\n",
        "for index, row in df.iterrows():\n",
        "    rowset = set(row) \n",
        "    labels = {}\n",
        "    uncommons = list(itemset - rowset)\n",
        "    commons = list(itemset.intersection(rowset))\n",
        "    for uc in uncommons:\n",
        "        labels[uc] = 0\n",
        "    for com in commons:\n",
        "        labels[com] = 1\n",
        "    encoded_vals.append(labels)\n",
        "encoded_vals[0]\n",
        "ohe_df = pd.DataFrame(encoded_vals)"
      ],
      "execution_count": null,
      "outputs": []
    },
    {
      "cell_type": "markdown",
      "metadata": {
        "id": "3EWoRROiZfnk"
      },
      "source": [
        "Let us remove the NaN column in the one hot encoded dataset and take a look at the first few rows"
      ]
    },
    {
      "cell_type": "code",
      "metadata": {
        "id": "PGtdxqScYH2K"
      },
      "source": [
        "ohe_df = ohe_df.drop(ohe_df.columns[0], axis=1)"
      ],
      "execution_count": null,
      "outputs": []
    },
    {
      "cell_type": "code",
      "metadata": {
        "colab": {
          "base_uri": "https://localhost:8080/",
          "height": 206
        },
        "id": "UvlG1yfTY_Z5",
        "outputId": "2e962a2e-e418-44e1-f4af-168b36b09855"
      },
      "source": [
        "ohe_df.head()"
      ],
      "execution_count": null,
      "outputs": [
        {
          "output_type": "execute_result",
          "data": {
            "text/html": [
              "<div>\n",
              "<style scoped>\n",
              "    .dataframe tbody tr th:only-of-type {\n",
              "        vertical-align: middle;\n",
              "    }\n",
              "\n",
              "    .dataframe tbody tr th {\n",
              "        vertical-align: top;\n",
              "    }\n",
              "\n",
              "    .dataframe thead th {\n",
              "        text-align: right;\n",
              "    }\n",
              "</style>\n",
              "<table border=\"1\" class=\"dataframe\">\n",
              "  <thead>\n",
              "    <tr style=\"text-align: right;\">\n",
              "      <th></th>\n",
              "      <th>Bagel</th>\n",
              "      <th>Milk</th>\n",
              "      <th>Bread</th>\n",
              "      <th>Meat</th>\n",
              "      <th>Cheese</th>\n",
              "      <th>Eggs</th>\n",
              "      <th>Pencil</th>\n",
              "      <th>Wine</th>\n",
              "      <th>Diaper</th>\n",
              "    </tr>\n",
              "  </thead>\n",
              "  <tbody>\n",
              "    <tr>\n",
              "      <th>0</th>\n",
              "      <td>0</td>\n",
              "      <td>0</td>\n",
              "      <td>1</td>\n",
              "      <td>1</td>\n",
              "      <td>1</td>\n",
              "      <td>1</td>\n",
              "      <td>1</td>\n",
              "      <td>1</td>\n",
              "      <td>1</td>\n",
              "    </tr>\n",
              "    <tr>\n",
              "      <th>1</th>\n",
              "      <td>0</td>\n",
              "      <td>1</td>\n",
              "      <td>1</td>\n",
              "      <td>1</td>\n",
              "      <td>1</td>\n",
              "      <td>0</td>\n",
              "      <td>1</td>\n",
              "      <td>1</td>\n",
              "      <td>1</td>\n",
              "    </tr>\n",
              "    <tr>\n",
              "      <th>2</th>\n",
              "      <td>0</td>\n",
              "      <td>1</td>\n",
              "      <td>0</td>\n",
              "      <td>1</td>\n",
              "      <td>1</td>\n",
              "      <td>1</td>\n",
              "      <td>0</td>\n",
              "      <td>1</td>\n",
              "      <td>0</td>\n",
              "    </tr>\n",
              "    <tr>\n",
              "      <th>3</th>\n",
              "      <td>0</td>\n",
              "      <td>1</td>\n",
              "      <td>0</td>\n",
              "      <td>1</td>\n",
              "      <td>1</td>\n",
              "      <td>1</td>\n",
              "      <td>0</td>\n",
              "      <td>1</td>\n",
              "      <td>0</td>\n",
              "    </tr>\n",
              "    <tr>\n",
              "      <th>4</th>\n",
              "      <td>0</td>\n",
              "      <td>0</td>\n",
              "      <td>0</td>\n",
              "      <td>1</td>\n",
              "      <td>0</td>\n",
              "      <td>0</td>\n",
              "      <td>1</td>\n",
              "      <td>1</td>\n",
              "      <td>0</td>\n",
              "    </tr>\n",
              "  </tbody>\n",
              "</table>\n",
              "</div>"
            ],
            "text/plain": [
              "   Bagel  Milk  Bread  Meat  Cheese  Eggs  Pencil  Wine  Diaper\n",
              "0      0     0      1     1       1     1       1     1       1\n",
              "1      0     1      1     1       1     0       1     1       1\n",
              "2      0     1      0     1       1     1       0     1       0\n",
              "3      0     1      0     1       1     1       0     1       0\n",
              "4      0     0      0     1       0     0       1     1       0"
            ]
          },
          "metadata": {},
          "execution_count": 7
        }
      ]
    },
    {
      "cell_type": "markdown",
      "metadata": {
        "id": "AOFxMpA-ZvCd"
      },
      "source": [
        "Now, we apply the apriori algorithm to get a list of all the frequent itemsets having a support of atleast 0.2. We order this list in descending order and view the top 30 most frequent itemsets and their Support values"
      ]
    },
    {
      "cell_type": "code",
      "metadata": {
        "colab": {
          "base_uri": "https://localhost:8080/",
          "height": 990
        },
        "id": "o-nR9xhlZKC0",
        "outputId": "c22b437e-3672-4328-9160-ef80edef9fc4"
      },
      "source": [
        "freq_items = apriori(ohe_df, min_support=0.2, use_colnames=True)\n",
        "freq_items.sort_values(by='support',ascending=False).head(30)"
      ],
      "execution_count": null,
      "outputs": [
        {
          "output_type": "execute_result",
          "data": {
            "text/html": [
              "<div>\n",
              "<style scoped>\n",
              "    .dataframe tbody tr th:only-of-type {\n",
              "        vertical-align: middle;\n",
              "    }\n",
              "\n",
              "    .dataframe tbody tr th {\n",
              "        vertical-align: top;\n",
              "    }\n",
              "\n",
              "    .dataframe thead th {\n",
              "        text-align: right;\n",
              "    }\n",
              "</style>\n",
              "<table border=\"1\" class=\"dataframe\">\n",
              "  <thead>\n",
              "    <tr style=\"text-align: right;\">\n",
              "      <th></th>\n",
              "      <th>support</th>\n",
              "      <th>itemsets</th>\n",
              "    </tr>\n",
              "  </thead>\n",
              "  <tbody>\n",
              "    <tr>\n",
              "      <th>2</th>\n",
              "      <td>0.504762</td>\n",
              "      <td>(Bread)</td>\n",
              "    </tr>\n",
              "    <tr>\n",
              "      <th>1</th>\n",
              "      <td>0.501587</td>\n",
              "      <td>(Milk)</td>\n",
              "    </tr>\n",
              "    <tr>\n",
              "      <th>4</th>\n",
              "      <td>0.501587</td>\n",
              "      <td>(Cheese)</td>\n",
              "    </tr>\n",
              "    <tr>\n",
              "      <th>3</th>\n",
              "      <td>0.476190</td>\n",
              "      <td>(Meat)</td>\n",
              "    </tr>\n",
              "    <tr>\n",
              "      <th>5</th>\n",
              "      <td>0.438095</td>\n",
              "      <td>(Eggs)</td>\n",
              "    </tr>\n",
              "    <tr>\n",
              "      <th>7</th>\n",
              "      <td>0.438095</td>\n",
              "      <td>(Wine)</td>\n",
              "    </tr>\n",
              "    <tr>\n",
              "      <th>0</th>\n",
              "      <td>0.425397</td>\n",
              "      <td>(Bagel)</td>\n",
              "    </tr>\n",
              "    <tr>\n",
              "      <th>8</th>\n",
              "      <td>0.406349</td>\n",
              "      <td>(Diaper)</td>\n",
              "    </tr>\n",
              "    <tr>\n",
              "      <th>6</th>\n",
              "      <td>0.361905</td>\n",
              "      <td>(Pencil)</td>\n",
              "    </tr>\n",
              "    <tr>\n",
              "      <th>21</th>\n",
              "      <td>0.323810</td>\n",
              "      <td>(Cheese, Meat)</td>\n",
              "    </tr>\n",
              "    <tr>\n",
              "      <th>13</th>\n",
              "      <td>0.304762</td>\n",
              "      <td>(Cheese, Milk)</td>\n",
              "    </tr>\n",
              "    <tr>\n",
              "      <th>24</th>\n",
              "      <td>0.298413</td>\n",
              "      <td>(Eggs, Cheese)</td>\n",
              "    </tr>\n",
              "    <tr>\n",
              "      <th>11</th>\n",
              "      <td>0.279365</td>\n",
              "      <td>(Milk, Bread)</td>\n",
              "    </tr>\n",
              "    <tr>\n",
              "      <th>10</th>\n",
              "      <td>0.279365</td>\n",
              "      <td>(Bagel, Bread)</td>\n",
              "    </tr>\n",
              "    <tr>\n",
              "      <th>26</th>\n",
              "      <td>0.269841</td>\n",
              "      <td>(Wine, Cheese)</td>\n",
              "    </tr>\n",
              "    <tr>\n",
              "      <th>22</th>\n",
              "      <td>0.266667</td>\n",
              "      <td>(Eggs, Meat)</td>\n",
              "    </tr>\n",
              "    <tr>\n",
              "      <th>23</th>\n",
              "      <td>0.250794</td>\n",
              "      <td>(Wine, Meat)</td>\n",
              "    </tr>\n",
              "    <tr>\n",
              "      <th>12</th>\n",
              "      <td>0.244444</td>\n",
              "      <td>(Milk, Meat)</td>\n",
              "    </tr>\n",
              "    <tr>\n",
              "      <th>14</th>\n",
              "      <td>0.244444</td>\n",
              "      <td>(Eggs, Milk)</td>\n",
              "    </tr>\n",
              "    <tr>\n",
              "      <th>19</th>\n",
              "      <td>0.244444</td>\n",
              "      <td>(Wine, Bread)</td>\n",
              "    </tr>\n",
              "    <tr>\n",
              "      <th>28</th>\n",
              "      <td>0.241270</td>\n",
              "      <td>(Wine, Eggs)</td>\n",
              "    </tr>\n",
              "    <tr>\n",
              "      <th>17</th>\n",
              "      <td>0.238095</td>\n",
              "      <td>(Cheese, Bread)</td>\n",
              "    </tr>\n",
              "    <tr>\n",
              "      <th>30</th>\n",
              "      <td>0.234921</td>\n",
              "      <td>(Wine, Diaper)</td>\n",
              "    </tr>\n",
              "    <tr>\n",
              "      <th>20</th>\n",
              "      <td>0.231746</td>\n",
              "      <td>(Diaper, Bread)</td>\n",
              "    </tr>\n",
              "    <tr>\n",
              "      <th>9</th>\n",
              "      <td>0.225397</td>\n",
              "      <td>(Bagel, Milk)</td>\n",
              "    </tr>\n",
              "    <tr>\n",
              "      <th>15</th>\n",
              "      <td>0.219048</td>\n",
              "      <td>(Wine, Milk)</td>\n",
              "    </tr>\n",
              "    <tr>\n",
              "      <th>32</th>\n",
              "      <td>0.215873</td>\n",
              "      <td>(Eggs, Cheese, Meat)</td>\n",
              "    </tr>\n",
              "    <tr>\n",
              "      <th>16</th>\n",
              "      <td>0.206349</td>\n",
              "      <td>(Meat, Bread)</td>\n",
              "    </tr>\n",
              "    <tr>\n",
              "      <th>31</th>\n",
              "      <td>0.203175</td>\n",
              "      <td>(Cheese, Milk, Meat)</td>\n",
              "    </tr>\n",
              "    <tr>\n",
              "      <th>27</th>\n",
              "      <td>0.200000</td>\n",
              "      <td>(Diaper, Cheese)</td>\n",
              "    </tr>\n",
              "  </tbody>\n",
              "</table>\n",
              "</div>"
            ],
            "text/plain": [
              "     support              itemsets\n",
              "2   0.504762               (Bread)\n",
              "1   0.501587                (Milk)\n",
              "4   0.501587              (Cheese)\n",
              "3   0.476190                (Meat)\n",
              "5   0.438095                (Eggs)\n",
              "7   0.438095                (Wine)\n",
              "0   0.425397               (Bagel)\n",
              "8   0.406349              (Diaper)\n",
              "6   0.361905              (Pencil)\n",
              "21  0.323810        (Cheese, Meat)\n",
              "13  0.304762        (Cheese, Milk)\n",
              "24  0.298413        (Eggs, Cheese)\n",
              "11  0.279365         (Milk, Bread)\n",
              "10  0.279365        (Bagel, Bread)\n",
              "26  0.269841        (Wine, Cheese)\n",
              "22  0.266667          (Eggs, Meat)\n",
              "23  0.250794          (Wine, Meat)\n",
              "12  0.244444          (Milk, Meat)\n",
              "14  0.244444          (Eggs, Milk)\n",
              "19  0.244444         (Wine, Bread)\n",
              "28  0.241270          (Wine, Eggs)\n",
              "17  0.238095       (Cheese, Bread)\n",
              "30  0.234921        (Wine, Diaper)\n",
              "20  0.231746       (Diaper, Bread)\n",
              "9   0.225397         (Bagel, Milk)\n",
              "15  0.219048          (Wine, Milk)\n",
              "32  0.215873  (Eggs, Cheese, Meat)\n",
              "16  0.206349         (Meat, Bread)\n",
              "31  0.203175  (Cheese, Milk, Meat)\n",
              "27  0.200000      (Diaper, Cheese)"
            ]
          },
          "metadata": {},
          "execution_count": 8
        }
      ]
    },
    {
      "cell_type": "markdown",
      "metadata": {
        "id": "TUwtIEKYcG0G"
      },
      "source": [
        "Now, we will apply the association rules algorithm to get the confidence and supports for pairs of items. these give us information about how likely product B is going to be bought if a customer buys product A"
      ]
    },
    {
      "cell_type": "code",
      "metadata": {
        "colab": {
          "base_uri": "https://localhost:8080/",
          "height": 206
        },
        "id": "9aUIew-_aVOu",
        "outputId": "0e52fb8e-4d7f-4b9a-81d9-8a0c7d80fde6"
      },
      "source": [
        "rules = association_rules(freq_items, metric=\"confidence\", min_threshold=0.6)\n",
        "rules.head()"
      ],
      "execution_count": null,
      "outputs": [
        {
          "output_type": "execute_result",
          "data": {
            "text/html": [
              "<div>\n",
              "<style scoped>\n",
              "    .dataframe tbody tr th:only-of-type {\n",
              "        vertical-align: middle;\n",
              "    }\n",
              "\n",
              "    .dataframe tbody tr th {\n",
              "        vertical-align: top;\n",
              "    }\n",
              "\n",
              "    .dataframe thead th {\n",
              "        text-align: right;\n",
              "    }\n",
              "</style>\n",
              "<table border=\"1\" class=\"dataframe\">\n",
              "  <thead>\n",
              "    <tr style=\"text-align: right;\">\n",
              "      <th></th>\n",
              "      <th>antecedents</th>\n",
              "      <th>consequents</th>\n",
              "      <th>antecedent support</th>\n",
              "      <th>consequent support</th>\n",
              "      <th>support</th>\n",
              "      <th>confidence</th>\n",
              "      <th>lift</th>\n",
              "      <th>leverage</th>\n",
              "      <th>conviction</th>\n",
              "    </tr>\n",
              "  </thead>\n",
              "  <tbody>\n",
              "    <tr>\n",
              "      <th>0</th>\n",
              "      <td>(Bagel)</td>\n",
              "      <td>(Bread)</td>\n",
              "      <td>0.425397</td>\n",
              "      <td>0.504762</td>\n",
              "      <td>0.279365</td>\n",
              "      <td>0.656716</td>\n",
              "      <td>1.301042</td>\n",
              "      <td>0.064641</td>\n",
              "      <td>1.442650</td>\n",
              "    </tr>\n",
              "    <tr>\n",
              "      <th>1</th>\n",
              "      <td>(Cheese)</td>\n",
              "      <td>(Milk)</td>\n",
              "      <td>0.501587</td>\n",
              "      <td>0.501587</td>\n",
              "      <td>0.304762</td>\n",
              "      <td>0.607595</td>\n",
              "      <td>1.211344</td>\n",
              "      <td>0.053172</td>\n",
              "      <td>1.270148</td>\n",
              "    </tr>\n",
              "    <tr>\n",
              "      <th>2</th>\n",
              "      <td>(Milk)</td>\n",
              "      <td>(Cheese)</td>\n",
              "      <td>0.501587</td>\n",
              "      <td>0.501587</td>\n",
              "      <td>0.304762</td>\n",
              "      <td>0.607595</td>\n",
              "      <td>1.211344</td>\n",
              "      <td>0.053172</td>\n",
              "      <td>1.270148</td>\n",
              "    </tr>\n",
              "    <tr>\n",
              "      <th>3</th>\n",
              "      <td>(Cheese)</td>\n",
              "      <td>(Meat)</td>\n",
              "      <td>0.501587</td>\n",
              "      <td>0.476190</td>\n",
              "      <td>0.323810</td>\n",
              "      <td>0.645570</td>\n",
              "      <td>1.355696</td>\n",
              "      <td>0.084958</td>\n",
              "      <td>1.477891</td>\n",
              "    </tr>\n",
              "    <tr>\n",
              "      <th>4</th>\n",
              "      <td>(Meat)</td>\n",
              "      <td>(Cheese)</td>\n",
              "      <td>0.476190</td>\n",
              "      <td>0.501587</td>\n",
              "      <td>0.323810</td>\n",
              "      <td>0.680000</td>\n",
              "      <td>1.355696</td>\n",
              "      <td>0.084958</td>\n",
              "      <td>1.557540</td>\n",
              "    </tr>\n",
              "  </tbody>\n",
              "</table>\n",
              "</div>"
            ],
            "text/plain": [
              "  antecedents consequents  antecedent support  ...      lift  leverage  conviction\n",
              "0     (Bagel)     (Bread)            0.425397  ...  1.301042  0.064641    1.442650\n",
              "1    (Cheese)      (Milk)            0.501587  ...  1.211344  0.053172    1.270148\n",
              "2      (Milk)    (Cheese)            0.501587  ...  1.211344  0.053172    1.270148\n",
              "3    (Cheese)      (Meat)            0.501587  ...  1.355696  0.084958    1.477891\n",
              "4      (Meat)    (Cheese)            0.476190  ...  1.355696  0.084958    1.557540\n",
              "\n",
              "[5 rows x 9 columns]"
            ]
          },
          "metadata": {},
          "execution_count": 9
        }
      ]
    },
    {
      "cell_type": "code",
      "metadata": {
        "colab": {
          "base_uri": "https://localhost:8080/",
          "height": 295
        },
        "id": "vel3Kbywabp7",
        "outputId": "6b372a1a-3df7-48c8-f6f1-66142356ce79"
      },
      "source": [
        "plt.scatter(rules['support'], rules['confidence'], alpha=0.5)\n",
        "plt.xlabel('support')\n",
        "plt.ylabel('confidence')\n",
        "plt.title('Support vs Confidence')\n",
        "plt.show()"
      ],
      "execution_count": null,
      "outputs": [
        {
          "output_type": "display_data",
          "data": {
            "image/png": "[encoded data removed]",
            "text/plain": [
              "<Figure size 432x288 with 1 Axes>"
            ]
          },
          "metadata": {
            "needs_background": "light"
          }
        }
      ]
    },
    {
      "cell_type": "markdown",
      "metadata": {
        "id": "f1IE0CAUcXP_"
      },
      "source": [
        "FPGrowth serves essentially the same function as that by the Apriori function, however it is supposed to give us an improvement in speed from the regular apriori function."
      ]
    },
    {
      "cell_type": "code",
      "metadata": {
        "colab": {
          "base_uri": "https://localhost:8080/",
          "height": 990
        },
        "id": "yynHxMK5ac48",
        "outputId": "9f2f8cd2-b9a9-40b3-cb44-a10c715ce508"
      },
      "source": [
        "from mlxtend.frequent_patterns import fpgrowth\n",
        "\n",
        "freq_items_fptree = fpgrowth(ohe_df, min_support=0.2, use_colnames=True)\n",
        "freq_items_fptree.sort_values(by='support',ascending=False).head(30)"
      ],
      "execution_count": null,
      "outputs": [
        {
          "output_type": "execute_result",
          "data": {
            "text/html": [
              "<div>\n",
              "<style scoped>\n",
              "    .dataframe tbody tr th:only-of-type {\n",
              "        vertical-align: middle;\n",
              "    }\n",
              "\n",
              "    .dataframe tbody tr th {\n",
              "        vertical-align: top;\n",
              "    }\n",
              "\n",
              "    .dataframe thead th {\n",
              "        text-align: right;\n",
              "    }\n",
              "</style>\n",
              "<table border=\"1\" class=\"dataframe\">\n",
              "  <thead>\n",
              "    <tr style=\"text-align: right;\">\n",
              "      <th></th>\n",
              "      <th>support</th>\n",
              "      <th>itemsets</th>\n",
              "    </tr>\n",
              "  </thead>\n",
              "  <tbody>\n",
              "    <tr>\n",
              "      <th>0</th>\n",
              "      <td>0.504762</td>\n",
              "      <td>(Bread)</td>\n",
              "    </tr>\n",
              "    <tr>\n",
              "      <th>7</th>\n",
              "      <td>0.501587</td>\n",
              "      <td>(Milk)</td>\n",
              "    </tr>\n",
              "    <tr>\n",
              "      <th>1</th>\n",
              "      <td>0.501587</td>\n",
              "      <td>(Cheese)</td>\n",
              "    </tr>\n",
              "    <tr>\n",
              "      <th>2</th>\n",
              "      <td>0.476190</td>\n",
              "      <td>(Meat)</td>\n",
              "    </tr>\n",
              "    <tr>\n",
              "      <th>3</th>\n",
              "      <td>0.438095</td>\n",
              "      <td>(Wine)</td>\n",
              "    </tr>\n",
              "    <tr>\n",
              "      <th>4</th>\n",
              "      <td>0.438095</td>\n",
              "      <td>(Eggs)</td>\n",
              "    </tr>\n",
              "    <tr>\n",
              "      <th>8</th>\n",
              "      <td>0.425397</td>\n",
              "      <td>(Bagel)</td>\n",
              "    </tr>\n",
              "    <tr>\n",
              "      <th>5</th>\n",
              "      <td>0.406349</td>\n",
              "      <td>(Diaper)</td>\n",
              "    </tr>\n",
              "    <tr>\n",
              "      <th>6</th>\n",
              "      <td>0.361905</td>\n",
              "      <td>(Pencil)</td>\n",
              "    </tr>\n",
              "    <tr>\n",
              "      <th>10</th>\n",
              "      <td>0.323810</td>\n",
              "      <td>(Cheese, Meat)</td>\n",
              "    </tr>\n",
              "    <tr>\n",
              "      <th>29</th>\n",
              "      <td>0.304762</td>\n",
              "      <td>(Cheese, Milk)</td>\n",
              "    </tr>\n",
              "    <tr>\n",
              "      <th>18</th>\n",
              "      <td>0.298413</td>\n",
              "      <td>(Eggs, Cheese)</td>\n",
              "    </tr>\n",
              "    <tr>\n",
              "      <th>31</th>\n",
              "      <td>0.279365</td>\n",
              "      <td>(Bagel, Bread)</td>\n",
              "    </tr>\n",
              "    <tr>\n",
              "      <th>30</th>\n",
              "      <td>0.279365</td>\n",
              "      <td>(Milk, Bread)</td>\n",
              "    </tr>\n",
              "    <tr>\n",
              "      <th>14</th>\n",
              "      <td>0.269841</td>\n",
              "      <td>(Wine, Cheese)</td>\n",
              "    </tr>\n",
              "    <tr>\n",
              "      <th>19</th>\n",
              "      <td>0.266667</td>\n",
              "      <td>(Eggs, Meat)</td>\n",
              "    </tr>\n",
              "    <tr>\n",
              "      <th>15</th>\n",
              "      <td>0.250794</td>\n",
              "      <td>(Wine, Meat)</td>\n",
              "    </tr>\n",
              "    <tr>\n",
              "      <th>21</th>\n",
              "      <td>0.244444</td>\n",
              "      <td>(Eggs, Milk)</td>\n",
              "    </tr>\n",
              "    <tr>\n",
              "      <th>16</th>\n",
              "      <td>0.244444</td>\n",
              "      <td>(Wine, Bread)</td>\n",
              "    </tr>\n",
              "    <tr>\n",
              "      <th>12</th>\n",
              "      <td>0.244444</td>\n",
              "      <td>(Milk, Meat)</td>\n",
              "    </tr>\n",
              "    <tr>\n",
              "      <th>20</th>\n",
              "      <td>0.241270</td>\n",
              "      <td>(Wine, Eggs)</td>\n",
              "    </tr>\n",
              "    <tr>\n",
              "      <th>9</th>\n",
              "      <td>0.238095</td>\n",
              "      <td>(Cheese, Bread)</td>\n",
              "    </tr>\n",
              "    <tr>\n",
              "      <th>23</th>\n",
              "      <td>0.234921</td>\n",
              "      <td>(Wine, Diaper)</td>\n",
              "    </tr>\n",
              "    <tr>\n",
              "      <th>24</th>\n",
              "      <td>0.231746</td>\n",
              "      <td>(Diaper, Bread)</td>\n",
              "    </tr>\n",
              "    <tr>\n",
              "      <th>32</th>\n",
              "      <td>0.225397</td>\n",
              "      <td>(Bagel, Milk)</td>\n",
              "    </tr>\n",
              "    <tr>\n",
              "      <th>17</th>\n",
              "      <td>0.219048</td>\n",
              "      <td>(Wine, Milk)</td>\n",
              "    </tr>\n",
              "    <tr>\n",
              "      <th>22</th>\n",
              "      <td>0.215873</td>\n",
              "      <td>(Eggs, Cheese, Meat)</td>\n",
              "    </tr>\n",
              "    <tr>\n",
              "      <th>11</th>\n",
              "      <td>0.206349</td>\n",
              "      <td>(Meat, Bread)</td>\n",
              "    </tr>\n",
              "    <tr>\n",
              "      <th>13</th>\n",
              "      <td>0.203175</td>\n",
              "      <td>(Cheese, Milk, Meat)</td>\n",
              "    </tr>\n",
              "    <tr>\n",
              "      <th>25</th>\n",
              "      <td>0.200000</td>\n",
              "      <td>(Diaper, Cheese)</td>\n",
              "    </tr>\n",
              "  </tbody>\n",
              "</table>\n",
              "</div>"
            ],
            "text/plain": [
              "     support              itemsets\n",
              "0   0.504762               (Bread)\n",
              "7   0.501587                (Milk)\n",
              "1   0.501587              (Cheese)\n",
              "2   0.476190                (Meat)\n",
              "3   0.438095                (Wine)\n",
              "4   0.438095                (Eggs)\n",
              "8   0.425397               (Bagel)\n",
              "5   0.406349              (Diaper)\n",
              "6   0.361905              (Pencil)\n",
              "10  0.323810        (Cheese, Meat)\n",
              "29  0.304762        (Cheese, Milk)\n",
              "18  0.298413        (Eggs, Cheese)\n",
              "31  0.279365        (Bagel, Bread)\n",
              "30  0.279365         (Milk, Bread)\n",
              "14  0.269841        (Wine, Cheese)\n",
              "19  0.266667          (Eggs, Meat)\n",
              "15  0.250794          (Wine, Meat)\n",
              "21  0.244444          (Eggs, Milk)\n",
              "16  0.244444         (Wine, Bread)\n",
              "12  0.244444          (Milk, Meat)\n",
              "20  0.241270          (Wine, Eggs)\n",
              "9   0.238095       (Cheese, Bread)\n",
              "23  0.234921        (Wine, Diaper)\n",
              "24  0.231746       (Diaper, Bread)\n",
              "32  0.225397         (Bagel, Milk)\n",
              "17  0.219048          (Wine, Milk)\n",
              "22  0.215873  (Eggs, Cheese, Meat)\n",
              "11  0.206349         (Meat, Bread)\n",
              "13  0.203175  (Cheese, Milk, Meat)\n",
              "25  0.200000      (Diaper, Cheese)"
            ]
          },
          "metadata": {},
          "execution_count": 11
        }
      ]
    },
    {
      "cell_type": "markdown",
      "metadata": {
        "id": "ft0PLG8JcrJ4"
      },
      "source": [
        "Here, we will compare the time taken by the apriori function vs that by the FPTree function. we see that FPTree reduced the time taken by a factor of 2. In case the dataset was a lot bigger like in real life, we would get even more speed up"
      ]
    },
    {
      "cell_type": "code",
      "metadata": {
        "colab": {
          "base_uri": "https://localhost:8080/"
        },
        "id": "zT5v5COabwYa",
        "outputId": "061956af-3166-4622-9faf-fecad88834f3"
      },
      "source": [
        "import time\n",
        "\n",
        "curr_time = time.time()\n",
        "freq_items = apriori(ohe_df, min_support=0.2, use_colnames=True)\n",
        "apriori_time = time.time() - curr_time\n",
        "print(\"apriori time:\", apriori_time)\n",
        "curr_time = time.time()\n",
        "freq_items_fptree = fpgrowth(ohe_df, min_support=0.2, use_colnames=True)\n",
        "fptree_time = time.time() - curr_time\n",
        "print(\"fptree time:\", fptree_time)"
      ],
      "execution_count": null,
      "outputs": [
        {
          "output_type": "stream",
          "name": "stdout",
          "text": [
            "apriori time: 0.01512289047241211\n",
            "fptree time: 0.00793600082397461\n"
          ]
        }
      ]
    }
  ]
}